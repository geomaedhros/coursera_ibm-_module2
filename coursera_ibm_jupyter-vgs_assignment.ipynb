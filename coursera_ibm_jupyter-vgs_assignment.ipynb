{
 "cells": [
  {
   "cell_type": "markdown",
   "metadata": {},
   "source": [
    "<center>\n",
    "    <img src=\"https://cf-courses-data.s3.us.cloud-object-storage.appdomain.cloud/IBMDeveloperSkillsNetwork-DS0105EN-SkillsNetwork/labs/Module2/images/SN_web_lightmode.png\" width=\"300\" alt=\"cognitiveclass.ai logo\">\n",
    "</center>\n"
   ]
  },
  {
   "cell_type": "markdown",
   "metadata": {},
   "source": [
    "#### Add your code below following the instructions given in the course\n"
   ]
  },
  {
   "cell_type": "markdown",
   "metadata": {},
   "source": [
    "# Peer graded assignment - Coursera Jupyter Notebook"
   ]
  },
  {
   "cell_type": "markdown",
   "metadata": {},
   "source": [
    "##### Author: _Víctor Guilló_"
   ]
  },
  {
   "cell_type": "markdown",
   "metadata": {},
   "source": [
    "## Introduction\n",
    "In this module, you will work on a final project to demonstrate some of the skills learned in the course. You will also be tested on your knowledge of various components and tools in a Data Scientist's toolkit learned in the previous modules."
   ]
  },
  {
   "cell_type": "markdown",
   "metadata": {},
   "source": [
    "## Data Science"
   ]
  },
  {
   "cell_type": "markdown",
   "metadata": {},
   "source": [
    "### Languages\n",
    "The recommended languages for data science mainly include:\n",
    "* Python \n",
    "* R\n",
    "* SQL\n",
    "\n",
    "Other languages like _Scala_, _Java_, _C++_, and _Julia_ also have specific features. _JavaScript_, _PHP_, _Go_, _Ruby_, and _Visual Basic_ have their own unique use cases as well. The language you choose to learn depends on the problems you need to solve, your company, your role, and the age of the existing application.\n",
    " "
   ]
  },
  {
   "cell_type": "markdown",
   "metadata": {},
   "source": [
    "### Libraries\n",
    "1. __Scientific Computing Libraries in Python:__\n",
    "    * Pandas: Offers data structures and tools for data cleaning, manipulation, and analysis.\n",
    "    * NumPy: Provides mathematical functions for arrays and matrices.\n",
    "2. __Visualization Libraries in Python:__\n",
    "    * Matplotlib: The most well-known library for data visualization, used for creating graphs and plots.\n",
    "    * Seaborn: A high-level visualization library based on Matplotlib, used for generating heat maps, time series, and violin plots.\n",
    "3. __High-Level Machine Learning and Deep Learning Libraries:__\n",
    "    * Scikit-learn: Contains tools for statistical modeling, including regression, classification, and clustering.\n",
    "    * Keras: Allows you to build standard deep learning models in a quick and simple manner.\n",
    "4. __Deep Learning Libraries in Python:__\n",
    "    * TensorFlow: A low-level framework used for large-scale production of deep learning models.\n",
    "    * Pytorch: Used for experimentation and testing ideas in deep learning.\n",
    "5. __Libraries used in other languages:__\n",
    "    * Apache Spark: A general-purpose cluster-computing framework for processing data using compute clusters.\n",
    "    * R: Has built-in functionality for machine learning and data visualization, with complementary libraries such as ggplot2."
   ]
  },
  {
   "cell_type": "markdown",
   "metadata": {},
   "source": [
    "### Tools\n",
    "| Tool | Description |\n",
    "| ---- | ----------- |\n",
    "| _Jupyter Notebooks_ | Jupyter Notebooks is an open-source web application that allows you to create and share documents that contain live code, equations, visualizations, and narrative text. It is widely used for data cleaning and transformation, numerical simulation, statistical modeling, data visualization, machine learning, and more.\n",
    "| _RStudio_ | RStudio is an integrated development environment (IDE) for the R programming language. It provides a user-friendly interface for writing, executing, and debugging R code. RStudio also offers features like data visualization, package management, and version control integration. |\n",
    "| _Python_ | Python is a versatile programming language that is widely used in data science. It has a rich ecosystem of libraries and frameworks such as NumPy, Pandas, and scikit-learn, which make it easy to perform data manipulation, analysis, and machine learning tasks. |\n",
    "| _SQL_ | SQL (Structured Query Language) is a programming language used for managing and manipulating relational databases. It allows you to query, insert, update, and delete data from databases. SQL is essential for working with large datasets and performing data analysis. |\n",
    "| _Tableau_ | Tableau is a powerful data visualization tool that allows you to create interactive dashboards, reports, and charts. It enables users to explore and understand data through visual representations, making it easier to communicate insights and findings. |\n",
    "| _TensorFlow_ | TensorFlow is an open-source machine learning framework developed by Google. It provides a comprehensive ecosystem of tools, libraries, and resources for building and deploying machine learning models. TensorFlow is widely used for tasks like image recognition, natural language processing, |and deep learning.\n",
    "| _Apache Spark_ | Apache Spark is a fast and general-purpose cluster computing system. It provides an interface for programming entire clusters with implicit data parallelism and fault tolerance. Spark is commonly used for big data processing, machine learning, and real-time analytics. |\n",
    "| _Git_ | Git is a distributed version control system that allows multiple people to collaborate on a project. It tracks changes to files and allows users to easily merge and manage different versions of code. Git is essential for code collaboration and version control in data science projects. |\n",
    "| _Hadoop_ | Hadoop is an open-source framework for distributed storage and processing of large datasets. It provides a scalable and fault-tolerant solution for handling big data. Hadoop is commonly used for batch processing, data warehousing, and data analysis. |\n",
    "| _IBM Watson Studio_ | IBM Watson Studio is a cloud-based platform that provides a suite of tools for data science and machine learning. It offers features like data preparation, model building, deployment, and collaboration. Watson Studio simplifies the end-to-end data science workflow and enables teams to work together effectively. |"
   ]
  },
  {
   "cell_type": "markdown",
   "metadata": {},
   "source": [
    "### Arithmetic Examples"
   ]
  },
  {
   "cell_type": "markdown",
   "metadata": {},
   "source": [
    "#### Addition:"
   ]
  },
  {
   "cell_type": "code",
   "execution_count": 3,
   "metadata": {
    "tags": []
   },
   "outputs": [
    {
     "data": {
      "text/plain": [
       "5"
      ]
     },
     "execution_count": 3,
     "metadata": {},
     "output_type": "execute_result"
    }
   ],
   "source": [
    "#Example: 2 + 3:\n",
    "2+3"
   ]
  },
  {
   "cell_type": "markdown",
   "metadata": {},
   "source": [
    "#### Substraction:"
   ]
  },
  {
   "cell_type": "code",
   "execution_count": 4,
   "metadata": {
    "tags": []
   },
   "outputs": [
    {
     "data": {
      "text/plain": [
       "3"
      ]
     },
     "execution_count": 4,
     "metadata": {},
     "output_type": "execute_result"
    }
   ],
   "source": [
    "#Example: 7 - 4:\n",
    "7-4"
   ]
  },
  {
   "cell_type": "markdown",
   "metadata": {},
   "source": [
    "#### Multiplication:"
   ]
  },
  {
   "cell_type": "code",
   "execution_count": 7,
   "metadata": {
    "tags": []
   },
   "outputs": [
    {
     "data": {
      "text/plain": [
       "15"
      ]
     },
     "execution_count": 7,
     "metadata": {},
     "output_type": "execute_result"
    }
   ],
   "source": [
    "#Example: 3 x 5:\n",
    "3*5"
   ]
  },
  {
   "cell_type": "markdown",
   "metadata": {},
   "source": [
    "#### Division:"
   ]
  },
  {
   "cell_type": "code",
   "execution_count": 6,
   "metadata": {
    "tags": []
   },
   "outputs": [
    {
     "data": {
      "text/plain": [
       "3.0"
      ]
     },
     "execution_count": 6,
     "metadata": {},
     "output_type": "execute_result"
    }
   ],
   "source": [
    "#Example: 12 / 4:\n",
    "12/4"
   ]
  },
  {
   "cell_type": "markdown",
   "metadata": {},
   "source": [
    "### Time conversion\n",
    "#### Minutes to hours:"
   ]
  },
  {
   "cell_type": "code",
   "execution_count": 11,
   "metadata": {
    "tags": []
   },
   "outputs": [
    {
     "name": "stdout",
     "output_type": "stream",
     "text": [
      "5:33\n"
     ]
    }
   ],
   "source": [
    "# set variable to be calculated\n",
    "total_minutes = 333\n",
    "\n",
    "# 1 hour = 60 minutes\n",
    "hours = total_minutes // 60\n",
    "minutes = total_minutes % 60\n",
    "\n",
    "# Create time as a string\n",
    "time_string = \"{}:{}\".format(hours, minutes)\n",
    "\n",
    "print(time_string) # Prints '5:33' in this example\n",
    "\n"
   ]
  },
  {
   "cell_type": "code",
   "execution_count": null,
   "metadata": {},
   "outputs": [],
   "source": []
  }
 ],
 "metadata": {
  "kernelspec": {
   "display_name": "Python",
   "language": "python",
   "name": "conda-env-python-py"
  },
  "language_info": {
   "codemirror_mode": {
    "name": "ipython",
    "version": 3
   },
   "file_extension": ".py",
   "mimetype": "text/x-python",
   "name": "python",
   "nbconvert_exporter": "python",
   "pygments_lexer": "ipython3",
   "version": "3.7.12"
  }
 },
 "nbformat": 4,
 "nbformat_minor": 4
}
